{
 "cells": [
  {
   "cell_type": "code",
   "execution_count": 24,
   "id": "76f9833a",
   "metadata": {},
   "outputs": [],
   "source": [
    "import os\n",
    "from typing import List, Optional\n",
    "from datetime import datetime, timezone\n",
    "from pydantic import BaseModel, EmailStr, Field, PositiveInt, HttpUrl, field_validator, model_validator, computed_field, PositiveFloat, ValidationError, AliasChoices, field_serializer\n",
    "from pydantic_settings import BaseSettings, SettingsConfigDict"
   ]
  },
  {
   "cell_type": "code",
   "execution_count": 3,
   "id": "e2aa57b6",
   "metadata": {},
   "outputs": [
    {
     "name": "stdout",
     "output_type": "stream",
     "text": [
      "{'id'}\n",
      "{'id': 1, 'name': 'Islam Ahmed', 'email': None}\n",
      "{\"id\":1,\"name\":\"Islam Ahmed\",\"email\":null}\n",
      "{'properties': {'id': {'title': 'Id', 'type': 'integer'}, 'name': {'default': 'Islam Ahmed', 'title': 'Name', 'type': 'string'}, 'email': {'anyOf': [{'format': 'email', 'type': 'string'}, {'type': 'null'}], 'default': None, 'title': 'Email'}}, 'required': ['id'], 'title': 'User', 'type': 'object'}\n",
      "[{'type': 'int_parsing', 'loc': ('id',), 'msg': 'Input should be a valid integer, unable to parse string as an integer', 'input': 'a', 'url': 'https://errors.pydantic.dev/2.12/v/int_parsing'}]\n",
      "[{\"type\":\"int_parsing\",\"loc\":[\"id\"],\"msg\":\"Input should be a valid integer, unable to parse string as an integer\",\"input\":\"a\",\"url\":\"https://errors.pydantic.dev/2.12/v/int_parsing\"}]\n"
     ]
    }
   ],
   "source": [
    "## Basics\n",
    "\n",
    "class User(BaseModel):\n",
    "    id: int\n",
    "    name: str = \"Islam Ahmed\"\n",
    "    email: EmailStr | None = None  # optional field of type email string or None\n",
    "\n",
    "user = User(id=1)\n",
    "print(user.model_fields_set)   # {'id'} # shows which fields are set by user\n",
    "print(user.model_dump())   # converts the model to dict  # {'id': 1, 'name': 'Islam Ahmed'}\n",
    "print(user.model_dump_json())   # converts the model to json string\n",
    "print(user.model_json_schema())   # converts the model to json schema\n",
    "\n",
    "\n",
    "try:\n",
    "    user2 = User(id='a')   # raises validation error\n",
    "except ValidationError as e:\n",
    "    exceptions = e\n",
    "\n",
    "\n",
    "print(exceptions.errors())   # shows the validation errors\n",
    "print(exceptions.json())   # shows the validation errors in json format\n"
   ]
  },
  {
   "cell_type": "code",
   "execution_count": 4,
   "id": "05179ae2",
   "metadata": {},
   "outputs": [
    {
     "name": "stdout",
     "output_type": "stream",
     "text": [
      "id=1 name='bla' location='bla bla' foods=[Food(id=1, name='food1', ingredients=['salt']), Food(id=2, name='food2', ingredients=['salt', 'bla'])]\n",
      "{'id': 1, 'name': 'bla', 'location': 'bla bla', 'foods': [{'id': 1, 'name': 'food1', 'ingredients': ['salt']}, {'id': 2, 'name': 'food2', 'ingredients': ['salt', 'bla']}]}\n",
      "id=2 name='bla2' location='bla bla2' foods=[Food(id=3, name='food3', ingredients=None)]\n",
      "{'id': 2, 'name': 'bla2', 'location': 'bla bla2', 'foods': [{'id': 3, 'name': 'food3', 'ingredients': None}]}\n"
     ]
    }
   ],
   "source": [
    "## Nested Models\n",
    "\n",
    "class Food(BaseModel):\n",
    "    id: int\n",
    "    name: str\n",
    "    ingredients: Optional[List[str]] = None\n",
    "\n",
    "class Restaurant(BaseModel):\n",
    "    id: int\n",
    "    name: str\n",
    "    location: str\n",
    "    foods: List[Food]\n",
    "\n",
    "try:\n",
    "    rest1 = Restaurant(\n",
    "            id=1,\n",
    "            name=\"bla\",\n",
    "            location=\"bla bla\", \n",
    "            foods= \n",
    "            [\n",
    "                {'id': 1, 'name': \"food1\", 'ingredients': [\"salt\"]},\n",
    "                {'id': 2, 'name': \"food2\", 'ingredients': [\"salt\", \"bla\"]}\n",
    "            ]\n",
    "        )\n",
    "    print(rest1)\n",
    "    print(rest1.model_dump())\n",
    "except ValidationError as e:    # pyright: ignore[reportUndefinedVariable]\n",
    "    print(f\"rest1 instantiated failed with errors {e}\")\n",
    "\n",
    "\n",
    "try:\n",
    "    rest2 = Restaurant(\n",
    "            id=2, \n",
    "            name=\"bla2\", \n",
    "            location=\"bla bla2\", \n",
    "            foods=[\n",
    "                Food(id=3, name=\"food3\")\n",
    "            ]\n",
    "        )\n",
    "    print(rest2)\n",
    "    print(rest2.model_dump())\n",
    "except ValidationError as e:    # pyright: ignore[reportUndefinedVariable]\n",
    "    print(f\"rest2 instantiated failed with errors {e}\")"
   ]
  },
  {
   "cell_type": "code",
   "execution_count": 5,
   "id": "9b1de542",
   "metadata": {},
   "outputs": [],
   "source": [
    "# %pip install pydantic[email]  \n",
    "\n",
    "# %pip is a Jupyter magic command.\n",
    "# It’s aware of the active kernel’s environment, so it installs packages exactly where your notebook’s Python interpreter runs.\n",
    "# this will install email-validator for validating email\n",
    "# use %pip instead of !pip because %pip ensures installation into the correct environment (the one your notebook is actually running).\n",
    "# run pip freeze > requirements.txt"
   ]
  },
  {
   "cell_type": "code",
   "execution_count": 6,
   "id": "c24aafe0",
   "metadata": {},
   "outputs": [
    {
     "name": "stdout",
     "output_type": "stream",
     "text": [
      "{'id': 1, 'name': 'Islam Ahmed'}\n",
      "id=2 name='bla bla'\n",
      "id=3 name='foo foo'\n"
     ]
    }
   ],
   "source": [
    "## serialization and deserialization\n",
    "# Serializing is the process of converting a python object into a format that can be easily stored or transmitted (like JSON, XML, Dict, Str or binary).\n",
    "# Deserializing is the reverse process, where the serialized data is converted back into its original structure or python object to use in the code.\n",
    "\n",
    "# serialization to dict\n",
    "class Person(BaseModel):\n",
    "    id: int\n",
    "    name: str\n",
    "\n",
    "person = Person(id=1, name=\"Islam Ahmed\")\n",
    "print(person.model_dump())   \n",
    "\n",
    "# deserialization from dict\n",
    "p = {'id': 2, 'name': 'bla bla'}\n",
    "person2 = Person.model_validate(p)\n",
    "print(person2)\n",
    "\n",
    "# deserialization from json string\n",
    "p_json = '''\n",
    "{\n",
    "    \"id\": 3,\n",
    "    \"name\": \"foo foo\"\n",
    "}\n",
    "'''\n",
    "person3 = Person.model_validate_json(p_json)\n",
    "print(person3)"
   ]
  },
  {
   "cell_type": "code",
   "execution_count": 7,
   "id": "0d121584",
   "metadata": {},
   "outputs": [
    {
     "name": "stdout",
     "output_type": "stream",
     "text": [
      "{'id': 1, 'name': 'bla', 'employees': [{'id': 1, 'name': 'emp1', 'email': 'emp1@gmail.com', 'address': {'id': 1, 'street': 'st 1', 'city': 'cairo', 'state': 'cairo', 'zip_code': '12345'}}, {'id': 2, 'name': 'emp2', 'email': 'emp2@gmail.com', 'address': {'id': 2, 'street': 'st 2', 'city': 'cairo', 'state': 'cairo', 'zip_code': '12345'}}], 'address': {'id': 1, 'street': 'st 1', 'city': 'cairo', 'state': 'cairo', 'zip_code': '12345'}, 'foods': [{'id': 1, 'name': 'food1', 'ingredients': ['salt']}, {'id': 2, 'name': 'food2', 'ingredients': ['salt', 'bla']}], 'owner': {'id': 1, 'name': 'owner1'}, 'number_of_tables': 10, 'website': HttpUrl('https://www.google.com/')}\n"
     ]
    }
   ],
   "source": [
    "## Additional Parsers\n",
    "\n",
    "class Address(BaseModel):\n",
    "    id: int\n",
    "    street: str = Field(..., min_length=3, max_length=50)  # the 3 dots means required field\n",
    "    city: str\n",
    "    state: str\n",
    "    zip_code: str\n",
    "\n",
    "class Employee(BaseModel):\n",
    "    id: int\n",
    "    name: str\n",
    "    email: EmailStr\n",
    "    address: Address\n",
    "\n",
    "class Owner(BaseModel):\n",
    "    id: int\n",
    "    name: str\n",
    "\n",
    "class Restaurant(BaseModel):\n",
    "    id: int\n",
    "    name: str\n",
    "    employees: List[Employee] = Field(..., min_length=2)   # list of at least 2 employee\n",
    "    address: Address\n",
    "    foods: List[Food]\n",
    "    owner: Owner\n",
    "    number_of_tables: PositiveInt = Field(..., gt=0, lt=100)  # greater than 0 and less than 100, PositiveInt means greater than 0\n",
    "    website: HttpUrl  # it should start with http or https\n",
    "\n",
    "\n",
    "rest1 = Restaurant(\n",
    "        id=1,\n",
    "        name=\"bla\",\n",
    "        employees=[\n",
    "            {'id': 1, 'name': \"emp1\", 'email': \"emp1@gmail.com\", 'address': {'id': 1, 'street': \"st 1\", 'city': \"cairo\", 'state': \"cairo\", 'zip_code': \"12345\"}},\n",
    "            {'id': 2, 'name': \"emp2\", 'email': \"emp2@gmail.com\", 'address': {'id': 2, 'street': \"st 2\", 'city': \"cairo\", 'state': \"cairo\", 'zip_code': \"12345\"}},\n",
    "        ],\n",
    "        address={'id': 1, 'street': \"st 1\", 'city': \"cairo\", 'state': \"cairo\", 'zip_code': \"12345\"},\n",
    "        foods= \n",
    "        [\n",
    "            {'id': 1, 'name': \"food1\", 'ingredients': [\"salt\"]},\n",
    "            {'id': 2, 'name': \"food2\", 'ingredients': [\"salt\", \"bla\"]}\n",
    "        ],\n",
    "        owner={'id': 1, 'name': \"owner1\"},\n",
    "        number_of_tables=10,\n",
    "        website=\"https://www.google.com\"\n",
    "    )\n",
    "print(rest1.model_dump())\n"
   ]
  },
  {
   "cell_type": "code",
   "execution_count": null,
   "id": "64196edb",
   "metadata": {},
   "outputs": [
    {
     "name": "stdout",
     "output_type": "stream",
     "text": [
      "id=1 name='Islam Ahmed'\n",
      "model instantiated failed with errors 1 validation error for Model\n",
      "numbers\n",
      "  Value error, numbers must be unique [type=value_error, input_value=[1, '2', 3, 4, 5, 1], input_type=list]\n",
      "    For further information visit https://errors.pydantic.dev/2.12/v/value_error\n"
     ]
    }
   ],
   "source": [
    "## Field Validator: is used with a single field\n",
    "\n",
    "class User(BaseModel):\n",
    "    id: int\n",
    "    name: str\n",
    "\n",
    "    @field_validator('name')\n",
    "    @classmethod\n",
    "    def name_must_be_capitalized(cls, v: str) -> str:\n",
    "        if ' ' not in v:\n",
    "            raise ValueError('Owner must contain a space')\n",
    "        return v.title()  # Capitalize each word\n",
    "    \n",
    "try:\n",
    "    user = User(id=1, name=\"islam ahmed\")\n",
    "    print(user)\n",
    "except ValueError as e:\n",
    "    print(f\"user instantiated failed with errors {e}\")  \n",
    "\n",
    "\n",
    "\n",
    "class Model(BaseModel):\n",
    "    numbers: List[int]\n",
    "\n",
    "    @field_validator('numbers')\n",
    "    @classmethod\n",
    "    def check_numbers(cls, v: List[int]) -> List[int]:\n",
    "        if len(set(v)) != len(v):\n",
    "            raise ValueError('numbers must be unique')\n",
    "        return v\n",
    "    \n",
    "try:\n",
    "    model = Model(numbers=[1, \"2\", 3, 4, 5, 1])\n",
    "    print(model)\n",
    "except ValidationError as e:   # ValueError is wrapped in ValidationError\n",
    "    print(f\"model instantiated failed with errors {e}\")\n"
   ]
  },
  {
   "cell_type": "code",
   "execution_count": 9,
   "id": "22d38fbd",
   "metadata": {},
   "outputs": [
    {
     "name": "stdout",
     "output_type": "stream",
     "text": [
      "id=1 name='Islam Ahmed' email='islam@gmail.com' password='1234' password_confirm='1234'\n",
      "event instantiated failed with errors 1 validation error for Event\n",
      "  Value error, age must be at least 18 [type=value_error, input_value={'id': 1, 'name': 'event1...end_date': '2023-10-09'}, input_type=dict]\n",
      "    For further information visit https://errors.pydantic.dev/2.12/v/value_error\n"
     ]
    }
   ],
   "source": [
    "## Model Validator: is used with multiple fields\n",
    "# You need to validate relationships between multiple fields (e.g., start_date < end_date).\n",
    "# Or you want to modify values before or after the model is created.\n",
    "\n",
    "# before → You prepare the messy input data before letting Pydantic do its validation.\n",
    "# after → You review the already validated model to ensure business logic is consistent before using/saving the data.\n",
    "\n",
    "class User(BaseModel):\n",
    "    id: int\n",
    "    name: str\n",
    "    email: EmailStr\n",
    "    password: str\n",
    "    password_confirm: str\n",
    "\n",
    "    @model_validator(mode='before')\n",
    "    @classmethod\n",
    "    def passwords_match(cls, values: dict):\n",
    "        if values.get('password') != values.get('password_confirm'):\n",
    "            raise ValueError('Passwords do not match')\n",
    "        if values.get('name'):\n",
    "            values['name'] = values['name'].strip().title()\n",
    "        \n",
    "        return values\n",
    "    \n",
    "\n",
    "try:\n",
    "    user = User(id=1, name='islam ahmed ', email='islam@gmail.com', password=\"1234\", password_confirm=\"1234\")\n",
    "    print(user)\n",
    "except ValueError as e:\n",
    "    print(f\"user instantiated failed with errors {e}\")\n",
    "\n",
    "\n",
    "class Event(BaseModel):\n",
    "    id: int\n",
    "    name: str\n",
    "    age: PositiveInt\n",
    "    start_date: str  # In a real app, use datetime\n",
    "    end_date: str    # In a real app, use datetime\n",
    "\n",
    "    @model_validator(mode='after')\n",
    "    @classmethod\n",
    "    def check_dates(cls, model):\n",
    "        if model.start_date >= model.end_date:\n",
    "            raise ValueError('start_date must be before end_date')\n",
    "        if model.age < 18:\n",
    "            raise ValueError('age must be at least 18')\n",
    "        return model\n",
    "    \n",
    "\n",
    "try:\n",
    "    event = Event(id=1, name=\"event1\", age=2,start_date=\"2023-10-08\", end_date=\"2023-10-09\")\n",
    "    print(event)\n",
    "except ValueError as e:\n",
    "    print(f\"event instantiated failed with errors {e}\")"
   ]
  },
  {
   "cell_type": "code",
   "execution_count": 10,
   "id": "13864724",
   "metadata": {},
   "outputs": [
    {
     "name": "stdout",
     "output_type": "stream",
     "text": [
      "{\"id\":1,\"name\":\"Laptop\",\"price\":999.99,\"description\":\"A high-end gaming laptop\",\"in_stock\":true,\"tags\":[\"electronics\",\"gaming\"],\"website\":\"https://example.com/laptop\"}\n"
     ]
    }
   ],
   "source": [
    "## Field Class\n",
    "\n",
    "class Product(BaseModel):\n",
    "    id: int\n",
    "    name: str = Field(..., min_length=3, max_length=50, description=\"The name of the product\")\n",
    "    price: float = Field(..., gt=0, description=\"The price must be greater than zero\")\n",
    "    description: Optional[str] = Field(None, max_length=300, description=\"A brief description of the product\")  # None means optional and it's the default value\n",
    "    in_stock: bool = Field(True, description=\"Availability of the product\")\n",
    "    tags: List[str] = Field(default_factory=list, description=\"Tags associated with the product\") # default_factory for mutable types and it's better than default since I can pass a regular function or lambda function to generate the default value\n",
    "    website: Optional[HttpUrl] = Field(None, description=\"The product's website URL (if available)\")\n",
    "\n",
    "try:\n",
    "    product = Product(id=1, name=\"Laptop\", price=999.99, description=\"A high-end gaming laptop\", tags=[\"electronics\", \"gaming\"], website=\"https://example.com/laptop\")\n",
    "    print(product.model_dump_json())\n",
    "except ValueError as e:\n",
    "    print(f\"product instantiated failed with errors {e}\")"
   ]
  },
  {
   "cell_type": "code",
   "execution_count": 11,
   "id": "87441df0",
   "metadata": {},
   "outputs": [
    {
     "name": "stdout",
     "output_type": "stream",
     "text": [
      "{'id': 1, 'first_name': 'John', 'last_name': 'Doe'}\n",
      "{'id': 1, 'First Name': 'John', 'Last Name': 'Doe'}\n"
     ]
    }
   ],
   "source": [
    "## Field Alias\n",
    "\n",
    "p = {\n",
    "    \"id\": 1,\n",
    "    \"First Name\": \"John\",\n",
    "    \"Last Name\": \"Doe\"\n",
    "}\n",
    "\n",
    "class Person(BaseModel):\n",
    "    id: int\n",
    "    first_name: str = Field(..., alias=\"First Name\")\n",
    "    last_name: str = Field(..., alias=\"Last Name\")\n",
    "\n",
    "person = Person.model_validate(p)\n",
    "print(person.model_dump())   # {'id': 1, 'first_name': 'John', 'last_name': 'Doe'}\n",
    "print(person.model_dump(by_alias=True))   # {'id': 1, 'First Name': 'John', 'Last Name': 'Doe'}"
   ]
  },
  {
   "cell_type": "code",
   "execution_count": 12,
   "id": "08f66d4d",
   "metadata": {},
   "outputs": [
    {
     "name": "stdout",
     "output_type": "stream",
     "text": [
      "{'id': 1, 'first_name': 'John', 'last_name': 'Doe'}\n",
      "{'id': 1, 'First Name': 'John', 'Last Name': 'Doe'}\n"
     ]
    }
   ],
   "source": [
    "## Model Configuration - populate by_name and by_alias\n",
    "\n",
    "class Person(BaseModel):\n",
    "    id: int\n",
    "    first_name: str = Field(..., alias=\"First Name\")\n",
    "    last_name: str = Field(..., alias=\"Last Name\")\n",
    "\n",
    "    model_config = SettingsConfigDict(\n",
    "        populate_by_name = True,  # allows population by field name in addition to alias\n",
    "        populate_by_alias = True   # allows population by alias in addition to field name\n",
    "    )  # I have to name it `model_config` for it to work\n",
    "\n",
    "p = {\n",
    "    \"id\": 1,\n",
    "    \"first_name\": \"John\",   # using field name instead of alias\n",
    "    \"Last Name\": \"Doe\"  # using alias instead of field name\n",
    "}   \n",
    "\n",
    "person = Person.model_validate(p)\n",
    "print(person.model_dump())   # {'id': 1, 'first_name': 'John', 'last_name': 'Doe'}\n",
    "print(person.model_dump(by_alias=True))   # {'id': 1, 'First Name': 'John', 'Last Name': 'Doe'} "
   ]
  },
  {
   "cell_type": "code",
   "execution_count": 13,
   "id": "13ac0dd7",
   "metadata": {},
   "outputs": [
    {
     "name": "stdout",
     "output_type": "stream",
     "text": [
      "id=1 event='User logged in' timestamp=datetime.datetime(2025, 10, 15, 8, 26, 27, 617553, tzinfo=datetime.timezone.utc)\n",
      "id=2 event='User logged out' timestamp=datetime.datetime(2023, 10, 1, 12, 0, tzinfo=datetime.timezone.utc)\n"
     ]
    }
   ],
   "source": [
    "## Default Factories\n",
    "\n",
    "class Log(BaseModel):\n",
    "    model_config = SettingsConfigDict(\n",
    "        populate_by_name = True,  # allows population by field name in addition to alias\n",
    "        populate_by_alias = True   # allows population by alias in addition to field name\n",
    "    )  # I have to name it `model_config` for it to work\n",
    "\n",
    "    id: int = Field(..., alias=\"log_id\")\n",
    "    event: str\n",
    "    timestamp: datetime = Field(default_factory=lambda: datetime.now(timezone.utc))  # default_factory for dynamic default value\n",
    "\n",
    "log = Log(id=1, event=\"User logged in\")\n",
    "print(log)\n",
    "\n",
    "log1 = Log(id=2, event=\"User logged out\", timestamp=datetime(2023, 10, 1, 12, 0, 0, tzinfo=timezone.utc))\n",
    "print(log1)"
   ]
  },
  {
   "cell_type": "code",
   "execution_count": null,
   "id": "ea10471d",
   "metadata": {},
   "outputs": [
    {
     "name": "stdout",
     "output_type": "stream",
     "text": [
      "{'number': 3.14, 'dt': datetime.datetime(2025, 10, 15, 8, 45, 32, 181884, tzinfo=datetime.timezone.utc)}\n",
      "{\"number\":3.14,\"dt\":\"2025-10-15 08:45:32 am\"}\n"
     ]
    }
   ],
   "source": [
    "## Field Serialization\n",
    "\n",
    "class Model(BaseModel):\n",
    "    number: float\n",
    "    dt: datetime | None = Field(default_factory=lambda: datetime.now(timezone.utc))\n",
    "\n",
    "    @field_serializer('number')\n",
    "    def serialize_number(self, v: float) -> float:\n",
    "        return round(v, 2)\n",
    "    \n",
    "    @field_serializer('dt', when_used='json-unless-none')  # only when serializing to json and if the value is not None\n",
    "    def serialize_dt(self, v: datetime) -> str:\n",
    "        return v.strftime(\"%Y-%m-%d %H:%M:%S %P\")\n",
    "\n",
    "  \n",
    "\n",
    "# m = Model(number=3.14159, dt=None)\n",
    "m = Model(number=3.14159)\n",
    "print(m.model_dump())  # {'number': 3.14, 'dt': datetime.datetime(2024, 6, 10, 15, 30, 45, 123456, tzinfo=datetime.timezone.utc)}\n",
    "print(m.model_dump_json())  # {\"number\": 3.14, \"dt\": \"2024-06-10 15:30:45 AM\"}"
   ]
  },
  {
   "cell_type": "code",
   "execution_count": 15,
   "id": "15e65ffd",
   "metadata": {},
   "outputs": [
    {
     "name": "stdout",
     "output_type": "stream",
     "text": [
      "{\"width\":5.0,\"height\":10.0,\"area\":50.0,\"perimeter\":30.0}\n",
      "{\"name\":\"Alice\",\"birth_year\":1990,\"age\":35}\n",
      "person_invalid instantiated failed with errors 1 validation error for Person\n",
      "birth_year\n",
      "  Value error, birth_year cannot be in the future [type=value_error, input_value=2026, input_type=int]\n",
      "    For further information visit https://errors.pydantic.dev/2.12/v/value_error\n"
     ]
    }
   ],
   "source": [
    "## Computed Fields\n",
    "# @computed_field (introduced in Pydantic v2) is a decorator that allows you to define a dynamic or calculated field that:\n",
    "# doesn’t come from user input,\n",
    "# is automatically included when the model is serialized (e.g., .model_dump() or .json()),\n",
    "# is read-only (computed from other fields).\n",
    "# is like a calculated column in SQL — it’s not stored, but automatically generated from existing data whenever you use the model.\n",
    "\n",
    "\n",
    "class Rectangle(BaseModel):\n",
    "    width: PositiveFloat\n",
    "    height: PositiveFloat\n",
    "\n",
    "    @computed_field\n",
    "    @property\n",
    "    def area(self) -> float:\n",
    "        return self.width * self.height\n",
    "\n",
    "    @computed_field\n",
    "    @property\n",
    "    def perimeter(self) -> float:\n",
    "        return 2 * (self.width + self.height)\n",
    "    \n",
    "rect = Rectangle(width=5.0, height=10.0)\n",
    "print(rect.model_dump_json())  # {'width': 5.0, 'height': 10.0, 'area': 50.0, 'perimeter': 30.0}\n",
    "\n",
    "# Another example\n",
    "class Person(BaseModel):\n",
    "    name: str\n",
    "    birth_year: int\n",
    "\n",
    "    @field_validator('birth_year')\n",
    "    @classmethod\n",
    "    def check_age(cls, v: int) -> int:\n",
    "        current_year = datetime.now().year\n",
    "        if v > current_year:\n",
    "            raise ValueError('birth_year cannot be in the future')\n",
    "        return v\n",
    "\n",
    "    @computed_field(description=\"The person's age based on the current year\")\n",
    "    @property\n",
    "    def age(self) -> int:\n",
    "        return datetime.now().year - self.birth_year\n",
    "    \n",
    "    \n",
    "person = Person(name=\"Alice\", birth_year=1990)\n",
    "print(person.model_dump_json())  # {'name': 'Alice', 'birth_year': 1990, 'age': 35} (as of 2025)\n",
    "\n",
    "try:\n",
    "    person_invalid = Person(name=\"Bob\", birth_year=2026)\n",
    "    print(person_invalid.model_dump_json())\n",
    "except ValidationError as e:     \n",
    "    print(f\"person_invalid instantiated failed with errors {e}\")"
   ]
  },
  {
   "cell_type": "code",
   "execution_count": 16,
   "id": "cce681a0",
   "metadata": {},
   "outputs": [
    {
     "name": "stdout",
     "output_type": "stream",
     "text": [
      "{'auth_key': 'env_auth_key', 'api_key': 'env_api_key', 'env1': HttpUrl('https://env1url.com/'), 'env2': HttpUrl('https://envurl.com/')}\n"
     ]
    }
   ],
   "source": [
    "## Pydantic settings\n",
    "\n",
    "\n",
    "# Settings Management that will be used instead of env file\n",
    "os.environ['AUTH_KEY'] = 'env_auth_key'\n",
    "os.environ['MY_API_KEY'] = 'env_api_key'\n",
    "os.environ['ENV2'] = 'https://envurl.com'\n",
    "\n",
    "\n",
    "class Settings(BaseSettings):\n",
    "    auth_key: str\n",
    "    api_key: str = Field(..., alias='MY_API_KEY')  # use alias to map environment variable name to field name\n",
    "    env1: HttpUrl = \"https://defaulturl.com\"  # default value\n",
    "    env2: HttpUrl\n",
    "\n",
    "    # if no local settings are passed, it will read from .env file \n",
    "    # model_config = SettingsConfigDict(\n",
    "    #     env_file = \".env\",\n",
    "    #     env_file_encoding = 'utf-8',\n",
    "    #     case_sensitive = False,\n",
    "    #     extra=\"ignore\"  # ignore unknown environment variables instead of raising error\n",
    "    # )\n",
    "\n",
    "settings = Settings(env1=\"https://env1url.com\")\n",
    "print(settings.model_dump())   # {'auth_key': 'env_auth_key' , 'api_key': 'env_api_key', 'env1': 'https://env1url.com', 'env2': 'https://envurl.com'}\n",
    "# settings = Settings() --- IGNORE ---\n",
    "# print(settings.model_dump())   # {'auth_key': 'env_auth_key', 'api_key': 'env_api_key       , 'env1': 'https://defaulturl.com', 'env2': 'https://envurl.com'} --- IGNORE ---  "
   ]
  },
  {
   "cell_type": "code",
   "execution_count": 17,
   "id": "c075af4f",
   "metadata": {},
   "outputs": [
    {
     "name": "stdout",
     "output_type": "stream",
     "text": [
      "{'auth_key': 'env_auth_key', 'api_key': 'env_api_key', 'env': HttpUrl('https://envurl.com/')}\n"
     ]
    }
   ],
   "source": [
    "# Settings Management that will be used instead of env file\n",
    "os.environ['PRODUCTION_AUTH_KEY'] = 'env_auth_key'\n",
    "os.environ['PRODUCTION_MY_API_KEY'] = 'env_api_key'\n",
    "os.environ['PRODUCTION_ENV2'] = 'https://envurl.com'\n",
    "os.environ['PRODUCTION_BLA'] = 'bla'\n",
    "\n",
    "class Settings(BaseSettings):\n",
    "    model_config = SettingsConfigDict(\n",
    "        env_prefix = \"PRODUCTION_\",  # prefix for environment variables, it's useful for moving between different environments like PRODUCTION_, DEVELOPMENT_, TESTING_\n",
    "        case_sensitive = False,\n",
    "        extra=\"ignore\"  # ignore unknown environment variables instead of raising error\n",
    "    )\n",
    "\n",
    "    auth_key: str\n",
    "    api_key: str = Field(..., alias='MY_API_KEY') \n",
    "    env: HttpUrl = Field(validation_alias=AliasChoices('ENV1', 'ENV2'))  # use validation_alias to map environment variable name to field name, if ENV1 not found, it will look for ENV2\n",
    "\n",
    "settings = Settings(env1=\"https://env1url.com\")\n",
    "print(settings.model_dump())"
   ]
  }
 ],
 "metadata": {
  "kernelspec": {
   "display_name": ".venv",
   "language": "python",
   "name": "python3"
  },
  "language_info": {
   "codemirror_mode": {
    "name": "ipython",
    "version": 3
   },
   "file_extension": ".py",
   "mimetype": "text/x-python",
   "name": "python",
   "nbconvert_exporter": "python",
   "pygments_lexer": "ipython3",
   "version": "3.12.3"
  }
 },
 "nbformat": 4,
 "nbformat_minor": 5
}
