{
 "cells": [
  {
   "cell_type": "code",
   "execution_count": null,
   "id": "d3b7e75b",
   "metadata": {},
   "outputs": [],
   "source": [
    "from bs4 import BeautifulSoup\n",
    "import re"
   ]
  },
  {
   "cell_type": "code",
   "execution_count": null,
   "id": "9ffc45cc",
   "metadata": {},
   "outputs": [],
   "source": [
    "with open('index2.html', 'r') as f:\n",
    "    doc = BeautifulSoup(f, 'html.parser')"
   ]
  },
  {
   "cell_type": "code",
   "execution_count": null,
   "id": "5bf7dc06",
   "metadata": {},
   "outputs": [],
   "source": [
    "## Searching and Filtering\n",
    "\n",
    "tag = doc.find('option')\n",
    "tag['value']  # access a tag attribute\n",
    "tag['value'] = 'new value'  # change the value of attr tag['value']\n",
    "tag['color'] = 'red'  # create a tag attr\n",
    "tag.attrs  # get the attributes as a dict\n",
    "tag\n",
    "\n",
    "tags = doc.find_all(['a', 'div'])\n",
    "tags\n",
    "\n",
    "tag = doc.find('option', string='Course type*')  # search with the exact text \"Course type*\"\n",
    "tag\n",
    "\n",
    "tag = doc.find('option', string=re.compile('Course'))  # This will match any string that contains the word \"Course\"\n",
    "tag\n",
    "\n",
    "tag = doc.find('option', value=re.compile('value'))  # This will match any tag has an attribute called \"value\" that contains the word \"value\"\n",
    "tag\n",
    "\n",
    "tag = doc.find_all(class_='btn-item', limit=2)  # This will match tags whose class is \"btn-item\", we use \"class_\" because it's a reserved word in python otherwise we use dict {'class': 'btn-item'}, limit for how many tags to return\n",
    "tag"
   ]
  },
  {
   "cell_type": "code",
   "execution_count": null,
   "id": "0316424a",
   "metadata": {},
   "outputs": [],
   "source": [
    "## save modified html\n",
    "inputs = doc.find_all('input', type='text')\n",
    "for input_tag in inputs:\n",
    "    input_tag['placeholder'] = 'I changed you!'\n",
    "\n",
    "with open('changed.html', 'w') as file:\n",
    "    file.write(str(doc))"
   ]
  }
 ],
 "metadata": {
  "kernelspec": {
   "display_name": "Python (1- Bs4 Basics)",
   "language": "python",
   "name": "venv_1_bs4_basics"
  },
  "language_info": {
   "codemirror_mode": {
    "name": "ipython",
    "version": 3
   },
   "file_extension": ".py",
   "mimetype": "text/x-python",
   "name": "python",
   "nbconvert_exporter": "python",
   "pygments_lexer": "ipython3",
   "version": "3.12.3"
  }
 },
 "nbformat": 4,
 "nbformat_minor": 5
}
