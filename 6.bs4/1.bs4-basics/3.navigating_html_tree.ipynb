{
 "cells": [
  {
   "cell_type": "code",
   "execution_count": null,
   "id": "10d87193",
   "metadata": {},
   "outputs": [],
   "source": [
    "from bs4 import BeautifulSoup\n",
    "import requests"
   ]
  },
  {
   "cell_type": "code",
   "execution_count": null,
   "id": "0f62b283",
   "metadata": {},
   "outputs": [],
   "source": [
    "url = \"https://coinmarketcap.com/\"\n",
    "page = requests.get(url)\n",
    "doc = BeautifulSoup(page.text, 'html.parser')\n",
    "\n",
    "tbody = doc.tbody\n",
    "trs = tbody.contents  # the tags inside tbody tag as a list\n",
    "trs[0].next_sibling  # next tr\n",
    "trs[1].previous_sibling  # previous tr\n",
    "list(trs[1].previous_siblings)  # all the previous trs\n",
    "list(trs[1].next_siblings)  # all the next trs\n",
    "trs[0].parent.name   # tbody\n",
    "list(trs[1].contents)  # Direct children only, as a list\n",
    "list(trs[1].descendants)  # Direct children only, as a generator\n",
    "list(trs[1].children) # All children + nested + text, as a generator"
   ]
  },
  {
   "cell_type": "code",
   "execution_count": 38,
   "id": "06ff767f",
   "metadata": {},
   "outputs": [
    {
     "data": {
      "text/plain": [
       "{'Bitcoin': '$172,830,874,704',\n",
       " 'Ethereum': '$29,507,436,580',\n",
       " 'XRP': '$11,835,746,309',\n",
       " 'Tether': '$126,443,702,456',\n",
       " 'BNB': '$2,285,296,795',\n",
       " 'Solana': '$6,662,498,922',\n",
       " 'USDC': '$14,844,613,017',\n",
       " 'Dogecoin': '$2,502,982,884',\n",
       " 'TRON': '$918,528,628',\n",
       " 'Cardano': '$1,773,993,036'}"
      ]
     },
     "execution_count": 38,
     "metadata": {},
     "output_type": "execute_result"
    }
   ],
   "source": [
    "prices = {}\n",
    "\n",
    "for tr in trs[:10]:\n",
    "    p_tags = tr.find_all('p')\n",
    "    name, price = p_tags[1].string, p_tags[4].string\n",
    "    prices[name] = price\n",
    "\n",
    "prices"
   ]
  }
 ],
 "metadata": {
  "kernelspec": {
   "display_name": "Python (1- Bs4 Basics)",
   "language": "python",
   "name": "venv_1_bs4_basics"
  },
  "language_info": {
   "codemirror_mode": {
    "name": "ipython",
    "version": 3
   },
   "file_extension": ".py",
   "mimetype": "text/x-python",
   "name": "python",
   "nbconvert_exporter": "python",
   "pygments_lexer": "ipython3",
   "version": "3.12.3"
  }
 },
 "nbformat": 4,
 "nbformat_minor": 5
}
