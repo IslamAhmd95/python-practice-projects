{
 "cells": [
  {
   "cell_type": "code",
   "execution_count": 6,
   "id": "f28aae60",
   "metadata": {},
   "outputs": [],
   "source": [
    "from bs4 import BeautifulSoup\n",
    "import requests\n",
    "import re"
   ]
  },
  {
   "cell_type": "code",
   "execution_count": 7,
   "id": "21540e3b",
   "metadata": {},
   "outputs": [
    {
     "data": {
      "text/plain": [
       "'This is a new sentence without a paragraph break, in bold italics.'"
      ]
     },
     "execution_count": 7,
     "metadata": {},
     "output_type": "execute_result"
    }
   ],
   "source": [
    "with open('index.html', 'r') as f:\n",
    "    doc = BeautifulSoup(f, 'html.parser')\n",
    "\n",
    "title = doc.title\n",
    "title.string = 'hello'  # change tag content\n",
    "title\n",
    "\n",
    "p_tags = doc.find_all('p')\n",
    "b_tags = p_tags[0].find_all('b')\n",
    "i_tags = p_tags[1].find_all('i')\n",
    "i_tags[0].text"
   ]
  },
  {
   "cell_type": "code",
   "execution_count": 8,
   "id": "395f4d2b",
   "metadata": {},
   "outputs": [],
   "source": [
    "url = \"https://www.newegg.ca/nzxt-atx-mid-tower-h9-elite-all-black-sgcc-steel-tempered-glass-computer-cases-cm-h91eb-01/p/N82E16811146349\"\n",
    "\n",
    "page = requests.get(url)\n",
    "src = page.text\n",
    "doc = BeautifulSoup(src, 'html.parser')"
   ]
  },
  {
   "cell_type": "code",
   "execution_count": 9,
   "id": "5cf64546",
   "metadata": {},
   "outputs": [
    {
     "name": "stdout",
     "output_type": "stream",
     "text": [
      "No result\n"
     ]
    },
    {
     "name": "stderr",
     "output_type": "stream",
     "text": [
      "<>:2: SyntaxWarning: invalid escape sequence '\\$'\n",
      "<>:2: SyntaxWarning: invalid escape sequence '\\$'\n",
      "/tmp/ipykernel_320570/1378654899.py:2: SyntaxWarning: invalid escape sequence '\\$'\n",
      "  prices = doc.find_all(string=re.compile(\"\\$.*\"))    # [$, $] is the output from the course video\n"
     ]
    }
   ],
   "source": [
    "# search for $ in the whole doc\n",
    "prices = doc.find_all(string=re.compile(\"\\$.*\"))    # [$, $] is the output from the course video\n",
    "if prices:\n",
    "    parent = prices[0].parent\n",
    "    strong = parent.find('strong')\n",
    "    print(strong.text if strong else \"No result\")\n"
   ]
  }
 ],
 "metadata": {
  "kernelspec": {
   "display_name": "Python (1- Bs4 Basics)",
   "language": "python",
   "name": "venv_1_bs4_basics"
  },
  "language_info": {
   "codemirror_mode": {
    "name": "ipython",
    "version": 3
   },
   "file_extension": ".py",
   "mimetype": "text/x-python",
   "name": "python",
   "nbconvert_exporter": "python",
   "pygments_lexer": "ipython3",
   "version": "3.12.3"
  }
 },
 "nbformat": 4,
 "nbformat_minor": 5
}
