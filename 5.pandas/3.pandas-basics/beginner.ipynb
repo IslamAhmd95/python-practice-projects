{
 "cells": [
  {
   "cell_type": "markdown",
   "id": "4ed9ec41",
   "metadata": {},
   "source": [
    "### What is Pandas?\n",
    "Pandas is a Python library used for data manipulation and analysis.\n",
    "\n",
    "It provides two main data structures:\n",
    "\n",
    "- Series → One-dimensional data (like a single column in Excel or a single list)\n",
    "\n",
    "- DataFrame → Two-dimensional data (like a table or spreadsheet)"
   ]
  },
  {
   "cell_type": "code",
   "execution_count": 1,
   "id": "b2e69ad3",
   "metadata": {},
   "outputs": [
    {
     "name": "stdout",
     "output_type": "stream",
     "text": [
      "2.3.0\n"
     ]
    }
   ],
   "source": [
    "import pandas as pd\n",
    "print(pd.__version__)"
   ]
  },
  {
   "cell_type": "code",
   "execution_count": 2,
   "id": "819ff525",
   "metadata": {},
   "outputs": [
    {
     "name": "stdout",
     "output_type": "stream",
     "text": [
      "0    10\n",
      "1    20\n",
      "2    30\n",
      "3    40\n",
      "dtype: int64\n",
      "--------------------------------------------------\n",
      "    Name  Age         Job\n",
      "0  Islam   20     Teacher\n",
      "1  Ahmed   30  Programmer\n",
      "2   Saad   40    Designer\n"
     ]
    }
   ],
   "source": [
    "## Introduction to Pandas\n",
    "\n",
    "s = pd.Series([10, 20, 30, 40])\n",
    "print(s)\n",
    "\n",
    "print(\"-\" * 50)\n",
    "\n",
    "df = pd.DataFrame({\n",
    "    'Name': ['Islam', 'Ahmed', 'Saad'],\n",
    "    'Age': [20, 30, 40],\n",
    "    'Job': ['Teacher', 'Programmer', 'Designer']\n",
    "})\n",
    "print(df)"
   ]
  },
  {
   "cell_type": "code",
   "execution_count": 3,
   "id": "fbaa4610",
   "metadata": {},
   "outputs": [],
   "source": [
    "## Creating Objects\n",
    "\n",
    "data = [100, 200, 300]\n",
    "s = pd.Series(data)\n",
    "# print(s)  # The index is created automatically: 0, 1, 2\n",
    "# ----------------------------------------------------------\n",
    "s1 = pd.Series(data, index=['a', 'b', 'c'])\n",
    "# print(s1)  # Now the labels are a, b, c.\n",
    "# ----------------------------------------------------------\n",
    "s2 = pd.Series({'a': 100, 'b': 200, 'c': 300})\n",
    "# print(s2)  # same like s1, the keys are the labels\n",
    "# ----------------------------------------------------------\n",
    "data = {\n",
    "    'Product': ['Book', 'Pen', 'Notebook'],\n",
    "    'Price': [12.5, 1.5, 3.0]\n",
    "}\n",
    "df = pd.DataFrame(data)\n",
    "# print(df)  # index will be 0, 1, 2 .. and Product and Price are the columns\n",
    "# ----------------------------------------------------------\n",
    "data = [\n",
    "    {'Product': 'Book', 'Price': 12.5},\n",
    "    {'Product': 'Pen', 'Price': 1.5},\n",
    "    {'Product': 'Notebook', 'Price': 3.0}\n",
    "]\n",
    "df = pd.DataFrame(data)\n",
    "# print(df)   # index will be 0, 1, 2 .. and Product and Price are the columns\n",
    "# ----------------------------------------------------------\n",
    "data = [\n",
    "    ['Book', 12.5],\n",
    "    ['Pen', 1.5],\n",
    "    ['Notebook', 3.0]\n",
    "]\n",
    "df = pd.DataFrame(data, columns=['Product', 'Price'])\n",
    "# print(df)  # index will be 0, 1, 2 .. and Product and Price are the columns\n",
    "\n",
    "\n"
   ]
  },
  {
   "cell_type": "code",
   "execution_count": 4,
   "id": "6052d064",
   "metadata": {},
   "outputs": [],
   "source": [
    "## Reading & Writing Data\n",
    "\n",
    "df = pd.read_csv('data/sample.csv')\n",
    "# print(df)\n",
    "# ----------------------------------------------------------\n",
    "# Writing to a new CSV file (without index)\n",
    "df.to_csv('data/new_sample.csv', index=False)\n",
    "# ----------------------------------------------------------\n",
    "data = [\n",
    "    ['Book', 12.5],\n",
    "    ['Pen', 1.5],\n",
    "    ['Notebook', 3.0],\n",
    "    ['Notebook', 3.0],\n",
    "    ['Notebook', 3.0],\n",
    "    ['Notebook', 3.0],\n",
    "]\n",
    "df = pd.DataFrame(data, columns=['Product', 'Price'])\n",
    "df.to_json('data/sample.json')\n",
    "# ----------------------------------------------------------\n",
    "df_json = pd.read_json('data/sample.json')\n",
    "# print(df_json)\n",
    "# ----------------------------------------------------------\n",
    "\"\"\"\n",
    "Pandas uses third-party libraries to handle Excel files (.xlsx), and by default, openpyxl is not installed.\n",
    "install it using this command \"pip3 install openpyxl\"\n",
    "\"\"\"\n",
    "df.to_excel('data/sample.xlsx', index=False)  # remove index\n",
    "df_excel = pd.read_excel('data/sample.xlsx')\n",
    "# print(df_excel)"
   ]
  },
  {
   "cell_type": "code",
   "execution_count": 5,
   "id": "b8271d2a",
   "metadata": {},
   "outputs": [
    {
     "name": "stdout",
     "output_type": "stream",
     "text": [
      "Product     object\n",
      "Price      float64\n",
      "dtype: object\n"
     ]
    }
   ],
   "source": [
    "## Basic Data Exploration\n",
    "\n",
    "# print(df.head())  # First 5 rows (default)\n",
    "# print(df.head(3))  # first 3 rows\n",
    "# print(df.tail())  # Last 5 (default)\n",
    "# print(df.tail(3))  # Last 3\n",
    "# ----------------------------------------------------------\n",
    "# print(df.shape)  # returns (number of rows, number of columns)\n",
    "# print(list(df.columns))  # List of column names\n",
    "# print(df.index) # Row index (usually 0,1,2,...)\n",
    "# print(df.info())  # shows (columns names, non-null counts, Data types)\n",
    "# print(df.describe()) # shows (Count, mean, std, min, max, percentiles (for numeric columns).)\n",
    "print(df.dtypes) # Helps you check if columns are numbers, strings, dates, etc.\n",
    "\n"
   ]
  },
  {
   "cell_type": "code",
   "execution_count": 6,
   "id": "d569997f",
   "metadata": {},
   "outputs": [
    {
     "data": {
      "text/html": [
       "<div>\n",
       "<style scoped>\n",
       "    .dataframe tbody tr th:only-of-type {\n",
       "        vertical-align: middle;\n",
       "    }\n",
       "\n",
       "    .dataframe tbody tr th {\n",
       "        vertical-align: top;\n",
       "    }\n",
       "\n",
       "    .dataframe thead th {\n",
       "        text-align: right;\n",
       "    }\n",
       "</style>\n",
       "<table border=\"1\" class=\"dataframe\">\n",
       "  <thead>\n",
       "    <tr style=\"text-align: right;\">\n",
       "      <th></th>\n",
       "      <th>Product</th>\n",
       "      <th>Price</th>\n",
       "    </tr>\n",
       "  </thead>\n",
       "  <tbody>\n",
       "    <tr>\n",
       "      <th>1</th>\n",
       "      <td>Pen</td>\n",
       "      <td>1.5</td>\n",
       "    </tr>\n",
       "  </tbody>\n",
       "</table>\n",
       "</div>"
      ],
      "text/plain": [
       "  Product  Price\n",
       "1     Pen    1.5"
      ]
     },
     "execution_count": 6,
     "metadata": {},
     "output_type": "execute_result"
    }
   ],
   "source": [
    "## Accessing Data\n",
    "\n",
    "# accessing columns\n",
    "df['Product']  # single column \"series\" \n",
    "df[['Product', 'Price']] # Multiple columns (as DataFrame), Double brackets\n",
    "# ----------------------------------------------------------\n",
    "# accessing rows\n",
    "df.loc[0]  # access by label (df.loc['a']) /index\n",
    "df.iloc[0]  # access by position, iloc means integer location\n",
    "# ----------------------------------------------------------\n",
    "# Accessing Rows + Columns Together\n",
    "df.loc[0, :]  # Row 0, all columns\n",
    "df.loc[0, 'Product']  # Row 0, specific column 'Product'\n",
    "df.iloc[0, 0]  # First row, first column\n",
    "# ----------------------------------------------------------\n",
    "# Slicing Rows\n",
    "df.iloc[:3]  # first 3 rows, 3 is not included like regular python list slicing\n",
    "df.loc[df['Price'] < 2]  # Rows where Price < 2\n",
    "df[df['Price'] < 2]  # the same like last one, without (.loc)\n"
   ]
  },
  {
   "cell_type": "markdown",
   "id": "807b227d",
   "metadata": {},
   "source": [
    "### Summary:\n",
    "\n",
    "- loc[] → index name + column name\n",
    "- iloc[] → row number + column number\n",
    "\n",
    "- Accessing Series\n",
    "\n",
    "```python\n",
    "df['Product']       # Series\n",
    "df.loc[:, 'Product'] # Same as above → Series\n",
    "```\n",
    "\n",
    "- Accessing Data Frame\n",
    "```python \n",
    "df[['Product', 'Price']]  # DataFrame\n",
    "df.loc[:, ['Product', 'Price']]  # Same result → DataFrame\n",
    "\n",
    "\n",
    "| Method      | Works On       | Uses Labels or Positions? |\n",
    "| ----------- | -------------- | ------------------------- |\n",
    "| `df['col']` | Columns        | Label (name)              |\n",
    "| `df.loc[]`  | Rows & Columns | Label (index or name)     |\n",
    "| `df.iloc[]` | Rows & Columns | Position (numbers)        |\n",
    "\n"
   ]
  },
  {
   "cell_type": "code",
   "execution_count": null,
   "id": "31083cdd",
   "metadata": {},
   "outputs": [
    {
     "data": {
      "text/html": [
       "<div>\n",
       "<style scoped>\n",
       "    .dataframe tbody tr th:only-of-type {\n",
       "        vertical-align: middle;\n",
       "    }\n",
       "\n",
       "    .dataframe tbody tr th {\n",
       "        vertical-align: top;\n",
       "    }\n",
       "\n",
       "    .dataframe thead th {\n",
       "        text-align: right;\n",
       "    }\n",
       "</style>\n",
       "<table border=\"1\" class=\"dataframe\">\n",
       "  <thead>\n",
       "    <tr style=\"text-align: right;\">\n",
       "      <th></th>\n",
       "      <th>Product</th>\n",
       "      <th>Price</th>\n",
       "    </tr>\n",
       "  </thead>\n",
       "  <tbody>\n",
       "    <tr>\n",
       "      <th>5</th>\n",
       "      <td>Notebook</td>\n",
       "      <td>3.0</td>\n",
       "    </tr>\n",
       "    <tr>\n",
       "      <th>4</th>\n",
       "      <td>Notebook</td>\n",
       "      <td>3.0</td>\n",
       "    </tr>\n",
       "    <tr>\n",
       "      <th>3</th>\n",
       "      <td>Notebook</td>\n",
       "      <td>3.0</td>\n",
       "    </tr>\n",
       "    <tr>\n",
       "      <th>2</th>\n",
       "      <td>Notebook</td>\n",
       "      <td>3.0</td>\n",
       "    </tr>\n",
       "    <tr>\n",
       "      <th>1</th>\n",
       "      <td>Pen</td>\n",
       "      <td>1.5</td>\n",
       "    </tr>\n",
       "    <tr>\n",
       "      <th>0</th>\n",
       "      <td>Book</td>\n",
       "      <td>12.5</td>\n",
       "    </tr>\n",
       "  </tbody>\n",
       "</table>\n",
       "</div>"
      ],
      "text/plain": [
       "    Product  Price\n",
       "5  Notebook    3.0\n",
       "4  Notebook    3.0\n",
       "3  Notebook    3.0\n",
       "2  Notebook    3.0\n",
       "1       Pen    1.5\n",
       "0      Book   12.5"
      ]
     },
     "execution_count": 7,
     "metadata": {},
     "output_type": "execute_result"
    }
   ],
   "source": [
    "## Basic Filtering & Sorting\n",
    "\n",
    "# Boolean indexing:\n",
    "# df['Price'] > 2 → gives True/False for each row\n",
    "# Passing that into df[] filters the DataFrame.\n",
    "df[df['Price'] < 2]  # same like the above\n",
    "df.loc[df['Price'] < 2]\n",
    "\n",
    "# Multiple conditions\n",
    "df[(df['Price'] > 2) & (df['Product'] == 'Book')]  \n",
    "df.loc[(df['Price'] > 2) & (df['Product'] == 'Book')]   # same like the above\n",
    "\n",
    "# .isin(): Checks if column value is in the provided list.\n",
    "df[df['Product'].isin(['Pen', 'Book'])]\n",
    "\n",
    "# Sort by Column Values\n",
    "df.sort_values(by='Product')  # sort by asc (default)\n",
    "df.sort_values(by='Product', ascending=False)  # sort by desc\n",
    "df.sort_values(by=['Product', 'Price'], ascending=[False, True])  # sort by multiple columns\n",
    "\n",
    "# Sort by index\n",
    "df.sort_index()  # sort by index asc\n",
    "df.sort_index(ascending=False)  # sort by index desc"
   ]
  },
  {
   "cell_type": "code",
   "execution_count": null,
   "id": "6bf01136",
   "metadata": {},
   "outputs": [
    {
     "data": {
      "text/html": [
       "<div>\n",
       "<style scoped>\n",
       "    .dataframe tbody tr th:only-of-type {\n",
       "        vertical-align: middle;\n",
       "    }\n",
       "\n",
       "    .dataframe tbody tr th {\n",
       "        vertical-align: top;\n",
       "    }\n",
       "\n",
       "    .dataframe thead th {\n",
       "        text-align: right;\n",
       "    }\n",
       "</style>\n",
       "<table border=\"1\" class=\"dataframe\">\n",
       "  <thead>\n",
       "    <tr style=\"text-align: right;\">\n",
       "      <th></th>\n",
       "      <th>Price</th>\n",
       "    </tr>\n",
       "  </thead>\n",
       "  <tbody>\n",
       "    <tr>\n",
       "      <th>Price</th>\n",
       "      <td>1.0</td>\n",
       "    </tr>\n",
       "  </tbody>\n",
       "</table>\n",
       "</div>"
      ],
      "text/plain": [
       "       Price\n",
       "Price    1.0"
      ]
     },
     "execution_count": 8,
     "metadata": {},
     "output_type": "execute_result"
    }
   ],
   "source": [
    "## Basic Statistics\n",
    "# Pandas has built-in statistical functions that help you quickly summarize numerical data.\n",
    "\n",
    "# Summary Statistics\n",
    "df.describe()  #    quick overview of the dataset (count, mean, std, min, max)\n",
    "\n",
    "# Common Aggregation Functions\n",
    "df['Price'].mean()  # average\n",
    "df['Price'].sum()  # sum\n",
    "df['Price'].median()  # median\n",
    "df['Price'].min()  # min\n",
    "df['Price'].max()  # max\n",
    "df['Price'].std()  # standard deviation: a measure of the amount of variation or dispersion of a set of values, indicating how spread out the data is from its mean.\n",
    "\n",
    "# Counting Unique Values:\n",
    "df['Product'].value_counts()  # How many times each value appears\n",
    "df['Product'].nunique()  #  # number of unique values\n",
    "df['Product'].unique()  #  # list of of unique values\n",
    "\n",
    "# Apply Statistics to Conditions\n",
    "df[df['Price'] > 2]['Price'].mean()  # Mean Price of items where Price > 2\n",
    "\n",
    "# Correlation Between Columns\n",
    "df.corr(numeric_only=True)  # numeric_only=True to avoid text column errors\n",
    "\n"
   ]
  },
  {
   "cell_type": "markdown",
   "id": "927d6543",
   "metadata": {},
   "source": [
    "### What is Correlation?\n",
    "\n",
    "👉 Correlation = A statistical measure that shows:\n",
    "How two numeric columns move together.\n",
    "\n",
    "- If they increase/decrease together → positive correlation (closer to +1)\n",
    "- If one increases while the other decreases → negative correlation (closer to -1)\n",
    "- If they have no relationship → correlation close to 0\n",
    "- Example: Taller people tend to weigh more → positive correlation between Height and Weight.\n",
    "\n",
    "### Standard Deviation (STD):\n",
    "It measures how spread out the numbers are from the average (mean).\n",
    "\n",
    "- A small std means values are close together.\n",
    "- A large std means values are very spread out.\n",
    "\n",
    "| Prices                       | STD Interpretation        |\n",
    "| ---------------------------- | ------------------------- |\n",
    "| 10, 10, 10, 10 → Mean = 10   | STD = 0 (no spread)       |\n",
    "| 1, 10, 20, 30 → Mean = 15.25 | STD = higher (big spread) |\n"
   ]
  }
 ],
 "metadata": {
  "kernelspec": {
   "display_name": ".venv",
   "language": "python",
   "name": "python3"
  },
  "language_info": {
   "codemirror_mode": {
    "name": "ipython",
    "version": 3
   },
   "file_extension": ".py",
   "mimetype": "text/x-python",
   "name": "python",
   "nbconvert_exporter": "python",
   "pygments_lexer": "ipython3",
   "version": "3.12.3"
  }
 },
 "nbformat": 4,
 "nbformat_minor": 5
}
