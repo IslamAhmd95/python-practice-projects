{
 "cells": [
  {
   "cell_type": "code",
   "execution_count": null,
   "id": "b3287824",
   "metadata": {},
   "outputs": [],
   "source": [
    "import pandas as pd"
   ]
  },
  {
   "cell_type": "code",
   "execution_count": null,
   "id": "b614a5c3",
   "metadata": {},
   "outputs": [],
   "source": [
    "values = [1, 2, 3, 4, 5, 0]\n",
    "\n",
    "# Series\n",
    "\n",
    "s = pd.Series(values, index=['a', 'b', 'c', 'd', 'e', 'a'])  # index can be duplicated\n",
    "\n",
    "# s\n",
    "\n",
    "# s.loc['a']\n",
    "\n",
    "\n",
    "# Data Frames\n",
    "\n",
    "df = pd.DataFrame({\n",
    "    'name': ['Islam', 'Saad', 'Fatma'],\n",
    "    'age': [20, 20, 20]\n",
    "# })\n",
    "}, index=['a', 'b', 'c'])\n",
    "\n",
    "# df.set_index('name', inplace=True)  # use the df names as the indices\n",
    "\n",
    "df.reset_index(inplace=True)  # resetting the index to default values \"0 1 2 ..\", but this moves the last index of \"a, b, c\" into a column\n",
    "\n",
    "df\n",
    "\n",
    "# df_2 = pd.DataFrame({\n",
    "#     'name': ['Islam', 'Saad', 'Fatma'],\n",
    "#     'age': [10, 20, 30]\n",
    "# }, index=['c', 'b', 'a'])\n",
    "\n",
    "# df + df_2  # this will concatenate names and sum numbers based on the matching of indices"
   ]
  },
  {
   "cell_type": "code",
   "execution_count": null,
   "id": "cea292c9",
   "metadata": {},
   "outputs": [],
   "source": [
    "df.to_csv('users.csv', index=None)\n",
    "pd.read_csv('users.csv')"
   ]
  },
  {
   "cell_type": "code",
   "execution_count": null,
   "id": "75796f50",
   "metadata": {},
   "outputs": [],
   "source": [
    "df.to_json('users.json')\n",
    "pd.read_json('users.json')"
   ]
  }
 ],
 "metadata": {
  "kernelspec": {
   "display_name": ".venv",
   "language": "python",
   "name": "python3"
  },
  "language_info": {
   "codemirror_mode": {
    "name": "ipython",
    "version": 3
   },
   "file_extension": ".py",
   "mimetype": "text/x-python",
   "name": "python",
   "nbconvert_exporter": "python",
   "pygments_lexer": "ipython3",
   "version": "3.12.3"
  }
 },
 "nbformat": 4,
 "nbformat_minor": 5
}
