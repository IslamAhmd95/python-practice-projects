{
 "cells": [
  {
   "cell_type": "markdown",
   "id": "1966162c",
   "metadata": {},
   "source": [
    "## 📊 Pandas DataFrame - Explanation\n",
    "\n",
    "A **DataFrame** is the core data structure in pandas used to store and manipulate **tabular data**, similar to an Excel sheet or a SQL table.\n",
    "\n",
    "It consists of **rows** and **columns**, where:\n",
    "- Each **column** is a `Series` (with a name and data type)\n",
    "- Each **row** represents a single record or observation\n",
    "- Each **cell** is a value at the intersection of a row and column\n",
    "\n",
    "### ✅ Key Features:\n",
    "- **2D labeled structure**: rows and columns both have labels (indexes and column names)\n",
    "- **Heterogeneous data**: each column can have a different data type (e.g., string, integer, float)\n",
    "- **Flexible indexing**: rows can be accessed by number (`iloc`) or label (`loc`)\n",
    "- **Powerful tools**: supports filtering, sorting, grouping, merging, missing data handling, and much more\n",
    "\n",
    "### 🧠 Analogy:\n",
    "If a `Series` is like a single column or a single record (e.g., a user's data),\n",
    "then a `DataFrame` is like a full **table of users** — with multiple records and fields.\n",
    "\n",
    "DataFrames are the main tool used for:\n",
    "- Cleaning and preparing data\n",
    "- Analyzing and summarizing data\n",
    "- Building datasets for machine learning and statistics\n"
   ]
  },
  {
   "cell_type": "code",
   "execution_count": null,
   "id": "0194d2c5",
   "metadata": {},
   "outputs": [],
   "source": [
    "import pandas as pd\n",
    "import numpy as np\n",
    "from numpy.random import randn\n",
    "np.random.seed(100212251) # to get the same random values, but have to run this line each time we create the related dataframe below \"df2\""
   ]
  },
  {
   "cell_type": "code",
   "execution_count": null,
   "id": "80f43712",
   "metadata": {},
   "outputs": [],
   "source": [
    "df1 = pd.DataFrame(1, index=['X', 'Y', 'Z'], columns = ['col1', 'col2'])\n",
    "df1"
   ]
  },
  {
   "cell_type": "code",
   "execution_count": null,
   "id": "ce9ae256",
   "metadata": {},
   "outputs": [],
   "source": [
    "df1.reset_index()"
   ]
  },
  {
   "cell_type": "code",
   "execution_count": null,
   "id": "7393dfa3",
   "metadata": {},
   "outputs": [],
   "source": [
    "df2 = pd.DataFrame(randn(3, 3), index=['X', 'Y', 'Z'], columns=['C1', 'C2', 'C3'])\n",
    "df2['C4'] = df2['C2'] + df2['C3']\n",
    "print(df2[['C1', 'C2']])\n",
    "\n",
    "print(\"-\"*20)\n",
    "\n",
    "print(df2)\n",
    "\n",
    "print(\"-\"*20)\n",
    "\n",
    "print(df2.loc['X'])  # loc to get the row\n",
    "\n",
    "print(\"-\"*20)\n",
    "\n",
    "print(df2.iloc[2])  # to get the row by num not char, x = 0  y = 1  z = 2\n",
    "\n",
    "print(\"-\"*20)\n",
    "\n",
    "print(df2.loc[['X', 'Z']])\n",
    "\n",
    "print(\"-\"*20)\n",
    "\n",
    "print(df2.loc[['X', 'Z'], ['C1', 'C2']])\n",
    "\n",
    "print(\"-\"*20)\n",
    "\n",
    "print(df2.loc['X', 'C2'])"
   ]
  },
  {
   "cell_type": "code",
   "execution_count": null,
   "id": "8fc51ecf",
   "metadata": {},
   "outputs": [],
   "source": [
    "new_df2 = df2.drop('C1', axis=1)  # axis = 1 if the dropped item is a column and axis = 0 if it's a row\n",
    "print(new_df2)\n",
    "\n",
    "print(\"-\"*20)\n",
    "\n",
    "new_df2 = df2.drop('X', axis=0)  # axis = 1 if the dropped item is a column and axis = 0 if it's a row\n",
    "print(new_df2)\n",
    "\n",
    "print(\"-\"*20)\n",
    "\n",
    "df2.drop('C1', axis=1, inplace=True)  # inplace=True means update df2 by dropping the selected item from df2 itself \n",
    "print(df2)\n",
    "\n",
    "print(\"-\"*20)\n",
    "\n",
    "df2.drop(['C2', 'C3'], axis=1, inplace=True)  # drop multiple items\n",
    "print(df2)\n"
   ]
  }
 ],
 "metadata": {
  "kernelspec": {
   "display_name": ".venv",
   "language": "python",
   "name": "python3"
  },
  "language_info": {
   "codemirror_mode": {
    "name": "ipython",
    "version": 3
   },
   "file_extension": ".py",
   "mimetype": "text/x-python",
   "name": "python",
   "nbconvert_exporter": "python",
   "pygments_lexer": "ipython3",
   "version": "3.12.3"
  }
 },
 "nbformat": 4,
 "nbformat_minor": 5
}
