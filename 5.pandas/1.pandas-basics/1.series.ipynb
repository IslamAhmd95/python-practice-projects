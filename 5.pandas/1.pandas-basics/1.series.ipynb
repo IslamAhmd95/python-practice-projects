{
 "cells": [
  {
   "cell_type": "markdown",
   "id": "56bb0147",
   "metadata": {},
   "source": [
    "## 🐼 Pandas Series - Explanation\n",
    "\n",
    "### ✅ What is a `Series`?\n",
    "A `Series` is a **one-dimensional labeled array** in pandas.  \n",
    "You can think of it as a single **column of data** with an **index** and **values**.\n",
    "\n",
    "It’s similar to a dictionary or a column in a table.\n"
   ]
  },
  {
   "cell_type": "code",
   "execution_count": 1,
   "id": "748eecad",
   "metadata": {},
   "outputs": [],
   "source": [
    "import pandas as pd"
   ]
  },
  {
   "cell_type": "code",
   "execution_count": 2,
   "id": "b5a4a60a",
   "metadata": {},
   "outputs": [],
   "source": [
    "headers = ['name', 'age', 'height']\n",
    "values = ['islam', 30, 192]\n",
    "my_ser = pd.Series(data=values, index=headers)\n"
   ]
  },
  {
   "cell_type": "code",
   "execution_count": 3,
   "id": "094bd6d3",
   "metadata": {},
   "outputs": [
    {
     "data": {
      "text/plain": [
       "'islam'"
      ]
     },
     "execution_count": 3,
     "metadata": {},
     "output_type": "execute_result"
    }
   ],
   "source": [
    "my_ser['name']"
   ]
  },
  {
   "cell_type": "code",
   "execution_count": 4,
   "id": "ec6eb2d6",
   "metadata": {},
   "outputs": [],
   "source": [
    "my_second_ser = pd.Series(values)  # indices are numeric values\n"
   ]
  },
  {
   "cell_type": "code",
   "execution_count": 5,
   "id": "a03b1315",
   "metadata": {},
   "outputs": [
    {
     "data": {
      "text/plain": [
       "0    islam\n",
       "1       30\n",
       "2      192\n",
       "dtype: object"
      ]
     },
     "execution_count": 5,
     "metadata": {},
     "output_type": "execute_result"
    }
   ],
   "source": [
    "my_second_ser"
   ]
  },
  {
   "cell_type": "code",
   "execution_count": 6,
   "id": "966e54a4",
   "metadata": {},
   "outputs": [
    {
     "data": {
      "text/plain": [
       "0                <class 'str'>\n",
       "1    <built-in function print>\n",
       "dtype: object"
      ]
     },
     "execution_count": 6,
     "metadata": {},
     "output_type": "execute_result"
    }
   ],
   "source": [
    "\"\"\"\n",
    "This creates a Series where the values can be Python built-in functions (str and print), and the indices are default integers (0, 1).\n",
    "You won't usually do this in real data, but it shows pandas can store any object type.\n",
    "\"\"\"\n",
    "pd.Series([str, print])"
   ]
  },
  {
   "cell_type": "code",
   "execution_count": 7,
   "id": "a93320f7",
   "metadata": {},
   "outputs": [],
   "source": [
    "sem_1 = pd.Series(data=[30, 40], index=['math', 'languages'])\n",
    "sem_2 = pd.Series(data=[30, 40, 35], index=['math', 'Physics', 'science'])"
   ]
  },
  {
   "cell_type": "code",
   "execution_count": 8,
   "id": "5475b09c",
   "metadata": {},
   "outputs": [
    {
     "name": "stdout",
     "output_type": "stream",
     "text": [
      "math         30\n",
      "languages    40\n",
      "dtype: int64\n",
      "------------------------------\n",
      "math       30\n",
      "Physics    40\n",
      "science    35\n",
      "dtype: int64\n",
      "------------------------------\n",
      "Physics       NaN\n",
      "languages     NaN\n",
      "math         60.0\n",
      "science       NaN\n",
      "dtype: float64\n"
     ]
    }
   ],
   "source": [
    "\"\"\"\n",
    "Pandas matches data by index label.\n",
    "- If a label is present in both, values are added.\n",
    "- If a label is missing in one Series, the result will be NaN (missing).\n",
    "\"\"\"\n",
    "\n",
    "all_sems = sem_1 + sem_2\n",
    "\n",
    "print(sem_1)\n",
    "print(\"-\"*30)\n",
    "print(sem_2)\n",
    "print(\"-\"*30)\n",
    "print(all_sems)"
   ]
  }
 ],
 "metadata": {
  "kernelspec": {
   "display_name": ".venv",
   "language": "python",
   "name": "python3"
  },
  "language_info": {
   "codemirror_mode": {
    "name": "ipython",
    "version": 3
   },
   "file_extension": ".py",
   "mimetype": "text/x-python",
   "name": "python",
   "nbconvert_exporter": "python",
   "pygments_lexer": "ipython3",
   "version": "3.12.3"
  }
 },
 "nbformat": 4,
 "nbformat_minor": 5
}
