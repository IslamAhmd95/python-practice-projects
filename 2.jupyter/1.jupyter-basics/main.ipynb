{
 "cells": [
  {
   "cell_type": "markdown",
   "id": "a11fbf1d",
   "metadata": {},
   "source": [
    "**Jupyter Notebook** is an open-source web application that allows you to create and share documents containing live code, equations, visualizations, and narrative text. It is widely used in data science, machine learning, and scientific computing. Here's a quick overview:\n",
    "\n",
    "### Key Features:\n",
    "1. **Interactive Coding**: You can write and execute Python code in cells interactively.\n",
    "2. **Rich Text Support**: Use Markdown to add formatted text, headings, links, and images.\n",
    "3. **Visualization**: Integrates with libraries like Matplotlib, Seaborn, and Plotly for data visualization.\n",
    "4. **Kernel Support**: Supports multiple programming languages via kernels, with Python being the most common.\n",
    "5. **Notebook Format**: Saves work in `.ipynb` files, which can be shared and executed on other systems.\n",
    "6. **Extensions**: Supports extensions for additional functionality, such as table of contents, spell check, etc.\n",
    "\n",
    "### Common Use Cases:\n",
    "- Data analysis and visualization\n",
    "- Machine learning model development\n",
    "- Prototyping and experimentation\n",
    "- Educational tutorials and demonstrations\n",
    "\n",
    "### Basic Workflow:\n",
    "1. Install Jupyter Notebook using `pip install notebook`.\n",
    "2. Launch it with the command `jupyter notebook`.\n",
    "3. Create a new notebook or open an existing one.\n",
    "4. Write code or text in cells and execute them."
   ]
  },
  {
   "cell_type": "code",
   "execution_count": null,
   "id": "c5915835",
   "metadata": {},
   "outputs": [
    {
     "name": "stdout",
     "output_type": "stream",
     "text": [
      "You entered:  3.0 and 4.0\n",
      "Addition:  7.0\n",
      "Subtraction:  -1.0\n",
      "Multiplication:  12.0\n",
      "Division:  0.75\n",
      "Exponentiation:  81.0\n",
      "Modulus:  3.0\n"
     ]
    }
   ],
   "source": [
    "# Simple Calculator\n",
    "x = input(\"Please enter a number: \")\n",
    "y = input(\"Please enter another number: \")\n",
    "\n",
    "if not x.isdigit() or not y.isdigit():\n",
    "    print(\"Invalid input. Please enter numbers only.\")\n",
    "else:\n",
    "    x = float(x)\n",
    "    y = float(y)\n",
    "    print(\"You entered: \", x, \"and\", y)\n",
    "    print(\"Addition: \", x + y)\n",
    "    print(\"Subtraction: \", x - y)\n",
    "    print(\"Multiplication: \", x * y)\n",
    "    print(\"Division: \", x / y if y != 0 else \"Cannot divide by zero\")\n",
    "    print(\"Exponentiation: \", x ** y)\n",
    "    print(\"Modulus: \", x % y if y != 0 else \"Cannot divide by zero\")"
   ]
  },
  {
   "cell_type": "code",
   "execution_count": null,
   "id": "b62fdeb0",
   "metadata": {},
   "outputs": [
    {
     "name": "stdout",
     "output_type": "stream",
     "text": [
      "Area: 153.86\n"
     ]
    }
   ],
   "source": [
    "# Area of a Circle\n",
    "radius = 7\n",
    "pi = 3.14\n",
    "area = pi * radius ** 2\n",
    "print(\"Area:\", area)"
   ]
  }
 ],
 "metadata": {
  "kernelspec": {
   "display_name": ".venv",
   "language": "python",
   "name": "python3"
  },
  "language_info": {
   "codemirror_mode": {
    "name": "ipython",
    "version": 3
   },
   "file_extension": ".py",
   "mimetype": "text/x-python",
   "name": "python",
   "nbconvert_exporter": "python",
   "pygments_lexer": "ipython3",
   "version": "3.12.3"
  }
 },
 "nbformat": 4,
 "nbformat_minor": 5
}
